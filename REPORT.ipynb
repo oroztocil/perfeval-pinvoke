{
 "cells": [
  {
   "cell_type": "markdown",
   "metadata": {},
   "source": [
    "# .NET Native Interop Performance Report\n",
    "\n",
    "The following report evaluates the performance overhead of calling native C/C++ functions from managed C# code using the built-in interoperability capabilities of .NET known as P/Invoke (short for Platform Invocation Services). The report presents benchmarks of common interop scenarios that invole marshalling and passing values of primitive types, strings, arrays, and structures, in both directions (i.e. as both function parameters and return values or out parameters). Several ways of implementing the interop calls that have been added to the .NET framework throughout the years, namely the `DllImport` attribute, the source-generator backed `LibraryImport` attribute, and unmanaged function pointers are compared.\n",
    "\n",
    "The benchmarks were executed on three .NET runtime versions as permitted by their respective supported feature sets: .NET Framework 4.8 (the last major version of the classic Windows-only runtime), .NET 6 (current LTS version of the portable .NET Core runtime) and the latest .NET 8 Preview. Results from Windows and Linux (x64) platforms are compared for the latter two runtimes.\n",
    "\n",
    "## Overview of P/Invoke\n",
    "\n",
    "Data type is called blittable if it has the same representation in managed and unmanaged memory. Such types therefore do not need conversion when passed between .NET and native code. In the case of reference types (or value types passed as `ref` parameters) this means that instead of copying the value to the unmanaged memory a pointer to the value's location in the managed memory can be passed where it can be accessed by the native code directly. This saves one copy for *in* parameters and up to two copies for *out* copies.\n",
    "\n",
    "Non-blittable types are conversely types that do need special marshalling during interop. These types include:\n",
    "\n",
    "- Strings\n",
    "- Bools\n",
    "- Arrays other than one-dimensional arrays of blittable types\n",
    "- Structures and classes containing any non-blittable field, including array fields (with the exception of arrays with compile-time constant size) "
   ]
  }
 ],
 "metadata": {
  "kernelspec": {
   "display_name": "Python 3",
   "language": "python",
   "name": "python3"
  },
  "language_info": {
   "codemirror_mode": {
    "name": "ipython",
    "version": 3
   },
   "file_extension": ".py",
   "mimetype": "text/x-python",
   "name": "python",
   "nbconvert_exporter": "python",
   "pygments_lexer": "ipython3",
   "version": "3.10.1"
  }
 },
 "nbformat": 4,
 "nbformat_minor": 4
}
