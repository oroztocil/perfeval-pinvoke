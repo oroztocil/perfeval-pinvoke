{
 "cells": [
  {
   "cell_type": "markdown",
   "metadata": {},
   "source": [
    "# .NET Native Interop Performance Report\n",
    "\n",
    "The following report evaluates the performance overhead of calling native C/C++ functions from managed C# code using the built-in interoperability capabilities of .NET known as P/Invoke. The report presents benchmarks of common interop scenarios that involve marshalling and passing values of primitive types, strings, arrays, and structures, in both directions (i.e. as both function parameters and return values or out parameters). Several ways of implementing the interop calls that have been added to the .NET framework throughout the years, namely the `DllImport` attribute, the source-generator backed `LibraryImport` attribute, and unmanaged function pointers are compared.\n",
    "\n",
    "The benchmarks were executed on three .NET runtime versions as permitted by their respective supported feature sets: .NET Framework 4.8 (the last major version of the classic Windows-only runtime), .NET 6 (current LTS version of the portable .NET Core runtime) and the latest .NET 8 Preview.\n",
    "\n",
    "## 1. Related work\n",
    "\n",
    "To our knowledge, there are not many comparable studies publicly available.\n",
    "\n",
    "- This [article](https://dev.to/jeikabu/native-code-in-net-5-0-and-c-9-0-39h7) compares performance of a single interop call implemented via `DllImport`, managed delegates and function pointers on .NET 5. It shows `DllImport` and function pointers to have comparable performance with the latter having ~1ns lesser overhead. Managed delegates are roughly twice as slow.\n",
    "- This [article](https://medium.com/p/c008e4da54db#8cec) compares two interop scenarios implemented via `DllImport`, delegates and directly emitting the `calli` IL [instruction](https://learn.microsoft.com/en-us/dotnet/api/system.reflection.emit.opcodes.calli?view=net-7.0). `DllImport` and the `calli`-based calls are shown to have similar performance with the latter being 1-2 ns faster. Delegates are almost two orders of magnitude slower in the measured scenarios. We opted not to include\n",
    "- There are also older articles ([see](https://www.codeproject.com/Articles/253444/PInvoke-Performance) and [see](https://xinterop1.rssing.com/chan-55440957/latest.php))  containing benchmarking results focused on particular comparisons between P/Invoke and C++/CLI interop. \n",
    "- The .NET runtime team maintains a public repository of benchmarks used to measure changes in performance between runtime versions, however, the benchmark suite does not include almost any [interop-related scenarios](https://github.com/dotnet/performance/tree/ea52574a828cd8740a716978331f8ff8bfeeb472/src/benchmarks/micro/runtime/Interop).\n",
    "\n",
    "## 2. Overview of P/Invoke\n",
    "\n",
    "In this section we provide a brief introduction to the .NET capabilities covered by the report. We describe the basic interop concepts and several APIs for declaring interop calls available in .NET under the umbrella term P/Invoke (short for *Platform Invocation Services*).\n",
    "\n",
    "### 2.1. Basic concepts and the `DllImport` attribute\n",
    "\n",
    "The original P/Invoke API available since .NET 1.1 is using the `DllImport` attribute. This attribute is added to a declaration of a `static extern` (i.e. body-less) method like this:\n",
    "\n",
    "```csharp\n",
    "[DllImport(\"kernel32.dll\")]\n",
    "public static extern bool QueryPerformanceCounter(out long counter);\n",
    "```\n",
    "\n",
    "Such method can be called from the user code as a regular C# method. However, its implementation is generated during run-time based on the method signature and the configuration provided in the`DllImport` attribute (and several related attributes). For example, for the declaration above the built-in interop service of the .NET runtime generates code that tries to load the *kernel32.dll* native library (using the standard OS dynamic library resolution mechanism), get the address of the `QueryPerformanceCounter` function in the library and calls it using special Intermediate Language instruction `calli` for calling unmanaged callsites.\n",
    "\n",
    "The actual execution process is more complex and involves resolving a series of IL stubs ([see](https://www.devops.lol/pinvoke-beyond-the-magic/)). However, this is beyond the scope of this report. What is more important is that, depending on the method signature and the `DllImport` configuration, the call may also include several safety related operations (see Section 2.5.) and, more importantly, perform *marshalling* of the function's arguments and return value.\n",
    "\n",
    "What happens during interop marshalling depends on whether the function's return value and arguments have blittable types or not. Data type is called **blittable** if it has the same representation in managed and unmanaged memory. Such types therefore do not need conversion when passed between .NET and native code. The following types are blittable:\n",
    "\n",
    "- Primitive types such as `byte`, `int`, `float`, and `double`.\n",
    "- Structs with fixed layout that contain only blittable fields (excluding array fields).\n",
    "- One-dimensional arrays of blittable types.\n",
    "\n",
    "Primitive blittable arguments and return values can be passed on the stack or in registers as-is (depending on the calling convention). In the case of reference types (or value types passed as `ref` parameters) being blittable means that instead of copying the value to the unmanaged memory, a pointer to the value's location in the managed memory can be passed to the native code. This saves one copy for *in* parameters and up to two copies for *out* parameters.\n",
    "\n",
    "Conversely, **non-blittable** types are types whose representation needs to be appropriately converted during interop. These types include:\n",
    "\n",
    "- `char` .NET characters are represented as 2-byte UTF-16 code units. By default, `DllImport` converts these to single-byte ANSI characters on Windows and UTF-8 characters on other platforms. The marshaller can be configured using attribute option to pass chars in the UTF-16 format.\n",
    "- `string`  Strings need to be converted to null-terminated character arrays and passed as pointers. Similarly to individual characters, `DllImport` supports either UTF-16 or ANSI/UTF-8 strings.\n",
    "- `bool`  Bools have historically multiple representations in different environments, ranging from 1 to 4 bytes, possibly with different mappings of numeric to boolean values. Attributes can be used to configure which format is used by the marshaller.\n",
    "- Arrays other than one-dimensional arrays of blittable types. \n",
    "- Structures and classes containing any non-blittable fields, including array fields (with the exception of blittable arrays with compile-time constant size)\n",
    "\n",
    "For convenience, the built-in `DllImport` marshaller handles several common scenarios involving non-blittable types automatically. This includes passing strings and bools (with optional configuration as mentioned) and also handling *out* parameters whose value needs to be provided back to the caller (such as the `out long counter` parameter of the `QueryPerformanceCounter` method above).\n",
    "\n",
    "In more complex cases (e.g. when passing non-blittable structures) the marshalling needs to be done by the user manually. When passing dynamically sized buffer (e.g. for a string) the representation in managed memory needs to be either copied in/out via unmanaged memory, or it needs to be protected from being moved by GC. In the benchmarked scenarios we experiment with the two most common ways of accessing managed memory in native code directly - the unsafe `fixed` operator and pinning via the `Marshal` API.\n",
    "\n",
    "These methods are used like this:\n",
    "\n",
    "```csharp\n",
    "var managedArray = new int[100];\n",
    "\n",
    "// Method 1: Copying data in (and out) via unmanaged heap\n",
    "IntPtr ptr = Marshal.AllocCoTaskMem(sizeof(int) * managedArray.Length);\n",
    "Marshal.Copy(managedArray, 0, ptr, managedArray.Lentgth);\n",
    "// 'ptr' can be passed to native code.\n",
    "// Data needs to be copied back if it should be available to managed code.\n",
    "Marshal.FreeCoTaskMem(ptr);\n",
    "\n",
    "// Method 2: Unsafe pointer to fixed memory\n",
    "unsafe {\n",
    "    fixed (int* ptr = managedArray) {\n",
    "        // 'ptr' can be passed to native code.\n",
    "        // Data of managedArray can be accessed directly.\n",
    "    }\n",
    "}\n",
    "\n",
    "// Method 3: Pinned handle\n",
    "GCHandle handle = GCHandle.Alloc(managedArray, GCHandleType.Pinned);\n",
    "IntPtr ptr = handle.AddrOfPinnedObject();\n",
    "// 'ptr' can be passed to native code.\n",
    "// Data of managedArray can be accessed directly.\n",
    "handle.Free();\n",
    "```\n",
    "\n",
    "### 2.2. Marshalling code generation and the `LibraryImport` attribute\n",
    "\n",
    "Recently, the [`LibraryImport`](https://learn.microsoft.com/en-us/dotnet/standard/native-interop/pinvoke-source-generation) attribute has been added in .NET 7 as a replacement of `DllImport` for declaring P/Invoke methods. Apart from API changes that were made to remove the historical Windows-specific features and to unify the behavior on different platforms the most interesting difference is that the marshalling code (at least for non-trivial marshalling) is generated during compile-time instead of at run-time. This feature is enabled by the source generator mechanism which analyzes the user's code using the Roslyn compiler API and generates additional C# (not IL) code as part of the compilation (or on the fly in an IDE).\n",
    "\n",
    "For example, when user declares a method such as:\n",
    "\n",
    "```csharp\n",
    "struct Timespec\n",
    "{\n",
    "    public long tv_sec;\n",
    "    public long tv_nsec;\n",
    "}\n",
    "\n",
    "[LibraryImport(\"libc\", EntryPoint = \"clock_gettime\")]\n",
    "private static partial int GetTime(int clk_id, ref Timespec tp);\n",
    "```\n",
    "\n",
    "Then the interop source generator provides the implementation of the `partial` method similar to this (code modified for readability):\n",
    "\n",
    "```csharp\n",
    "private static partial int GetTime(int clk_id, ref Timespec tp)\n",
    "{\n",
    "    int __retVal;\n",
    "    \n",
    "    fixed (Timespec* __tp_native = &tp)\n",
    "    {\n",
    "        __retVal = __PInvoke(clk_id, __tp_native);\n",
    "    }\n",
    "    \n",
    "    return __retVal;\n",
    "\n",
    "    [DllImport(\"libc\", EntryPoint = \"clock_gettime\")]\n",
    "    static extern unsafe int __PInvoke(int clk_id, Timespec* tp);\n",
    "}\n",
    "```\n",
    "\n",
    "Notice that the implementation internally still uses the `DllImport` attribute (and therefore the run-time interop service). However, the generated code handles non-trivial marshalling, in this case pinning the *out* parameter struct in memory and passing pointer to it to the native call. In this way the `LibraryImport` attribute converts the interop call to the which involves only passing primitive values on stack.\n",
    "\n",
    "This has several ramifications for performance:\n",
    "\n",
    "- Any inherent overhead of `DllImport` pertaining to calling the native method (marshalling excluded) also applies to `LibraryImport`.\n",
    "- On the other hand, no run-time reflection and IL emission is needed to construct the marshalling code. This might lead to better cold start performance in particular.\n",
    "- The pre-generated marshalling code can be inlined already by the C# compiler, not just the JIT compiler.\n",
    "- The source generated interop is compatible with the Native AOT compilation available since .NET 7 (outside of the scope of this report).\n",
    "\n",
    "### 2.3. Unsafe function pointers\n",
    "\n",
    ".NET 5 added another way of calling native functions using function pointers. This involves manually loading the native library and acquiring address to the exported function using the `NativeLibrary` API. The address (represented as an untyped `IntPtr` handle) can than be in an `unsafe` context cast to a typed function pointer using a special `delegate*` syntax. This pointer can be then invoked as a regular C# function.  For example:\n",
    "\n",
    "```csharp\n",
    "IntPtr kernelLib = NativeLibrary.Load(\"kernel32.dll\");\n",
    "IntPtr qpcPtr = NativeLibrary.GetExport(kernelLib, \"QueryPerformanceCounter\");\n",
    "unsafe\n",
    "{\n",
    "    var qpc = (delegate* unmanaged<out long, bool>)qpcPtr;\n",
    "    bool isSuccess = qpc(out long timestamp);\n",
    "}\n",
    "```\n",
    "\n",
    "There is a very little documentation on the internal implementation of interop via function pointers. Apparently (see [discussion](https://github.com/dotnet/runtime/issues/46858#issuecomment-758810968)), the feature uses the same runtime interop service as traditional P/Invoke with `DllImport`, including basic marshalling capabilities. However, there is no support for marshalling most non-blittable types and the user is expected to convert any such values manually.\n",
    "\n",
    "Without the knowledge of internals it is difficult to predict whether function pointers differ in performance from `DllImport` methods.\n",
    "\n",
    "### 2.4. Other methods\n",
    "\n",
    "We omit use of managed delegates as these have shown to be significantly slower (see *Related work*) while not providing benefits over the other methods. We also not included implementation based on emitting the `calli` IL [instruction](https://learn.microsoft.com/en-us/dotnet/api/system.reflection.emit.opcodes.calli?view=net-7.0) during run-time as we wanted to focus on more standard .NET APIs intended for general developer audience.\n",
    "\n",
    "### 2.5. Interop settings\n",
    "\n",
    "There are a few options available for `DllImport` and `LibraryImport` declarations that modify run-time behavior of the interop call. We evaluate effect of enabling or disabling these options in Section 5.2. Here we briefly describe their effect.\n",
    "\n",
    "#### `SetLastError`\n",
    "\n",
    "When the `SetLastError` attribute is added to the P/Invoke method declaration the marshaller retrieves the error code set by the called function (using `GetLastError` on Windows or `errno` on Linux) and stores it in a thread static variable for the managed code to use. Since .NET 5 the error variable is also cleared before each call. Enabling this option might incur minor performance overhead.\n",
    "\n",
    "#### `SuppressUnmanagedCodeSecurity`\n",
    "\n",
    "In the original .NET Framework each P/Invoke call involved a check for a permission to call unmanaged code (depending on the properties of the .NET assembly and the user that executed it). This check had to perform a stack walk to determine if the entire call chain conformed to the relevant security policy, causing a performance overhead for each interop call. This behavior can be disabled by adding the `SuppressUnmanagedCodeSecurity` attribute to the `DllImport` method declaration. The rewritten .NET Core [abandoned](https://learn.microsoft.com/en-us/dotnet/core/compatibility/core-libraries/5.0/code-access-security-apis-obsolete) the mechanism of Code Access Security and this attribute does nothing when executed on Core runtimes.\n",
    "\n",
    "#### `SuppressGCTransition`\n",
    "\n",
    "Each P/Invoke call causes the garbage collector to switch for the duration of the call from the default cooperative mode (where GC can only start once all threads reach a safe point) to the preemptive mode. This is done so that a blocking native call does not prevent GC for too long or indefinitely. Unsurprisingly, the mode switch incurs an performance overhead for each interop call.\n",
    "\n",
    "The `SuppressGCTransition` attribute, which was previously used only internally in .NET base libraries and has been made available to users in .NET 5, allows to skip the GC mode transition. It should be noted, however, that this option is safe to use only for a restricted class of interop calls (see [list of conditions](https://learn.microsoft.com/en-us/dotnet/api/system.runtime.interopservices.suppressgctransitionattribute?view=net-7.0#remarks)).\n",
    "\n",
    "## 3. Benchmark platform\n",
    "\n",
    "All tests were performed on a desktop computer with the following hardware  and software specifications.\n",
    "\n",
    "**Hardware platform**\n",
    "\n",
    "- CPU: Intel Core i5 10400F, 6 physical cores, 12 hyper-threads, running at fixed 2900 MHz frequency\n",
    "- RAM: 64 GB DDR4, running at 3200 Mhz frequency\n",
    "- Storage: Samsung 970 1 TB NVMe SSD\n",
    "\n",
    "**Operation system**\n",
    "\n",
    "- Windows 10 22H2 (Build 19045.3448)\n",
    "\n",
    "**.NET SDKs**\n",
    "\n",
    "- .NET Framework 4.8\n",
    "- .NET 6.0.414\n",
    "- .NET 8.0.100-preview.7.23376.3\n",
    "\n",
    "**C++ compiler**\n",
    "\n",
    "- g++ 13.2.0 (MSYS distribution)\n",
    "- Compiler options: `-std=c++17 -O2 -Wall`\n",
    "\n",
    "## 4. Plotting scripts\n",
    "\n",
    "The following code is used throughout the report to plot the benchmark results."
   ]
  },
  {
   "cell_type": "code",
   "execution_count": 1,
   "metadata": {},
   "outputs": [],
   "source": [
    "import glob\n",
    "from matplotlib import pyplot as plt\n",
    "import pandas as pd\n",
    "import seaborn as sns\n",
    "import sys\n",
    "\n",
    "color_map = dict(zip(\n",
    "    [\"Managed\", \"DllImport\", \"LibraryImport\", \"FuncPointers\"],\n",
    "    [\"#79ccb3\",\"#e9724d\", \"#d6d727\", \"#92cad1\", ]\n",
    "))\n",
    "\n",
    "order_map = dict(zip(\n",
    "    [\"Managed\", \"DllImport\", \"LibraryImport\", \"FuncPointers\"],\n",
    "    [10, 20, 30, 40]\n",
    "))\n",
    "\n",
    "\n",
    "def load_results_file(run_dir: str) -> pd.DataFrame:\n",
    "    results_dir = run_dir + \"/results\"\n",
    "    file = glob.glob(results_dir + \"/*measurements.csv\")[0]\n",
    "    df = pd.read_csv(file, delimiter=\";\")\n",
    "    return df\n",
    "\n",
    "def merge_results_files(root_dir: str) -> pd.DataFrame:\n",
    "    files = glob.glob(root_dir + \"*/results/*measurements.csv\")\n",
    "    print(files)\n",
    "    result = pd.DataFrame()\n",
    "    for file in files:\n",
    "        df = pd.read_csv(file, delimiter=\";\")\n",
    "        result = pd.concat([result, df])\n",
    "    return result\n",
    "\n",
    "def make_barplot(input_df: pd.DataFrame, title, unit, category = None, param = None, figsize = (14, 6)):\n",
    "    category_df = input_df if category is None else input_df.query(f\"Category == '{category}'\")\n",
    "    grouped_df = category_df.groupby([\"Target_Type\", \"Target_Method\", \"Job_Runtime\"])\n",
    "\n",
    "    items = []\n",
    "    methods = {\n",
    "        \".NET 4.8\": set(),\n",
    "        \".NET 6.0\": set(),\n",
    "        \".NET 8.0\": set(),\n",
    "    }\n",
    "\n",
    "    for keys, data in grouped_df:\n",
    "        (type, method, runtime) = keys\n",
    "        runtime_version = \".NET \" + runtime.split(\" \")[-1]\n",
    "        case = f\"{type}-{method}\"\n",
    "        methods[runtime_version].add(case)\n",
    "\n",
    "        method_parts = method.split(\"_\")\n",
    "        bar = type if len(method_parts) < 2 else f\"{type}\\n({method_parts[-1]})\"\n",
    "        color_map[bar] = color_map[type]\n",
    "\n",
    "        for val in data[\"Measurement_Value\"].to_list():\n",
    "            items.append({\n",
    "                \"Type\": bar,\n",
    "                \"Runtime\": runtime_version,\n",
    "                \"Value\": val if unit == \"ns\" else val / 1000.0 / 1000.0,\n",
    "                \"Order\": order_map[type],\n",
    "                \"Color\": color_map[type]\n",
    "            })\n",
    "\n",
    "    items.sort(key=lambda x: x[\"Order\"])\n",
    "\n",
    "    method_total = sum(map(len, methods.values()))\n",
    "    method_ratios = list(map(lambda x: len(x) / method_total, methods.values()))\n",
    "\n",
    "    input_df = pd.DataFrame(items)\n",
    "\n",
    "    fig, ax = plt.subplots(1, 3, figsize=figsize, sharey=True, gridspec_kw={'width_ratios': method_ratios})\n",
    "    fig.suptitle(title, fontsize=16, fontweight=\"bold\")\n",
    "    fig.supylabel(f\"Mean execution time ({unit})\", fontsize=12)\n",
    "\n",
    "    for i, runtime in [(0, \".NET 4.8\"), (1, \".NET 6.0\"), (2, \".NET 8.0\")]:\n",
    "        _df = input_df[input_df.Runtime == runtime]\n",
    "        plot = sns.barplot(\n",
    "            ax=ax[i],\n",
    "            data=_df,\n",
    "            x=\"Type\", y=\"Value\",\n",
    "            palette=color_map,\n",
    "            saturation=1.0\n",
    "        )\n",
    "\n",
    "        if method_total > 10:\n",
    "            plot.set_xticklabels(plot.get_xticklabels(), rotation=45, fontsize=9)\n",
    "\n",
    "        ax[i].bar_label(ax[i].containers[0], fmt='%.2f', label_type=\"center\")\n",
    "        ax[i].set_xlabel(\"\")\n",
    "        ax[i].set_ylabel(\"\")\n",
    "        ax[i].set_title(runtime, fontsize=12)\n",
    "\n",
    "    plt.show()"
   ]
  },
  {
   "cell_type": "markdown",
   "metadata": {},
   "source": [
    "## 5. Experiments\n",
    "\n",
    "We implemented the benchmarks using the [BenchmarkDotNet](https://github.com/dotnet/BenchmarkDotNet) library which is the [de-facto standard](https://github.com/dotnet/BenchmarkDotNet/network/dependents) for micro-benchmarking .NET code. The library provides API for declaring benchmark jobs (similarly to unit testing frameworks), handles benchmark execution and exporting results. When executing a benchmark in BenchmarkDotNet, the harness builds a separate .NET project for each combination of runtime environment, job definition and job parameters, and then performs a series of stages intended to ensure meaningful results based on steady state performance. In particular:\n",
    "\n",
    "- *Pilot iterations* are used to select proper number of operations to do per actual benchmark iteration. The library uses configurable heuristics to compute this number (e.g. target iteration length or target error). We configured the library to select operation count such that the results from Pilot iterations have **relative error (defined as <half of CI 99.9%> / mean) less than `0.01`**.\n",
    "- *Overhead iterations (warmup and workload)* are used to estimate overhead of the benchmark runner itself. Mean of this value is later subtracted from the actual results.\n",
    "- *Warmup iterations* are used to warmup the actual workload method.\n",
    "- *Workload iterations* are used to measure the actual benchmark results.\n",
    " \n",
    "This worklfow describes the standard **throughput** benchmarks that comprise majority of this report. In Section 5.7. we also try to evaluate the **cold start** performance. To do so, we execute benchmarks using configuration that disables the previously described stages. Instead it simply performs some number of separate launches, each with one iteration and one operation executed. No warmup or overhead estimation is done in this configuration. "
   ]
  },
  {
   "cell_type": "markdown",
   "metadata": {},
   "source": [
    "### 5.1. Overhead baseline\n",
    "\n",
    "To establish the overhead of calling the very minimal native function lets first evaluate calls to an empty parameterless `void` function. \n",
    "\n",
    "```csharp\n",
    "// C# signature\n",
    "static void Empty();\n",
    "```\n",
    "\n",
    "```cpp\n",
    "// C++ function\n",
    "void Empty() {}\n",
    "```\n",
    "\n",
    "The following figure (and other such figures in the report) shows the mean execution time of calling the native function using the different interop APIs. Not all APIs are available on all evaluated runtimes:\n",
    "\n",
    "- .NET Framework 4.8 supports only `DllImport`.\n",
    "- .NET 6 supports `DllImport` and function pointers.\n",
    "- .NET 8 supports `DllImport`, `LibraryImport` and function pointers.\n",
    "\n",
    "Execution time of a semantically equivalent C# method is added as a baseline."
   ]
  },
  {
   "cell_type": "code",
   "execution_count": 2,
   "metadata": {
    "tags": []
   },
   "outputs": [
    {
     "ename": "IndexError",
     "evalue": "list index out of range",
     "output_type": "error",
     "traceback": [
      "\u001b[1;31m---------------------------------------------------------------------------\u001b[0m",
      "\u001b[1;31mIndexError\u001b[0m                                Traceback (most recent call last)",
      "Cell \u001b[1;32mIn[2], line 1\u001b[0m\n\u001b[1;32m----> 1\u001b[0m data \u001b[38;5;241m=\u001b[39m \u001b[43mload_results_file\u001b[49m\u001b[43m(\u001b[49m\u001b[38;5;124;43m\"\u001b[39;49m\u001b[38;5;124;43mReportData/Void_Empty_2023-09-21T00_21_17\u001b[39;49m\u001b[38;5;124;43m\"\u001b[39;49m\u001b[43m)\u001b[49m\n\u001b[0;32m      2\u001b[0m make_barplot(data, \u001b[38;5;124m\"\u001b[39m\u001b[38;5;124mvoid Empty()\u001b[39m\u001b[38;5;124m\"\u001b[39m, \u001b[38;5;124m\"\u001b[39m\u001b[38;5;124mns\u001b[39m\u001b[38;5;124m\"\u001b[39m)\n",
      "Cell \u001b[1;32mIn[1], line 20\u001b[0m, in \u001b[0;36mload_results_file\u001b[1;34m(run_dir)\u001b[0m\n\u001b[0;32m     18\u001b[0m \u001b[38;5;28;01mdef\u001b[39;00m \u001b[38;5;21mload_results_file\u001b[39m(run_dir: \u001b[38;5;28mstr\u001b[39m) \u001b[38;5;241m-\u001b[39m\u001b[38;5;241m>\u001b[39m pd\u001b[38;5;241m.\u001b[39mDataFrame:\n\u001b[0;32m     19\u001b[0m     results_dir \u001b[38;5;241m=\u001b[39m run_dir \u001b[38;5;241m+\u001b[39m \u001b[38;5;124m\"\u001b[39m\u001b[38;5;124m/results\u001b[39m\u001b[38;5;124m\"\u001b[39m\n\u001b[1;32m---> 20\u001b[0m     file \u001b[38;5;241m=\u001b[39m \u001b[43mglob\u001b[49m\u001b[38;5;241;43m.\u001b[39;49m\u001b[43mglob\u001b[49m\u001b[43m(\u001b[49m\u001b[43mresults_dir\u001b[49m\u001b[43m \u001b[49m\u001b[38;5;241;43m+\u001b[39;49m\u001b[43m \u001b[49m\u001b[38;5;124;43m\"\u001b[39;49m\u001b[38;5;124;43m/*measurements.csv\u001b[39;49m\u001b[38;5;124;43m\"\u001b[39;49m\u001b[43m)\u001b[49m\u001b[43m[\u001b[49m\u001b[38;5;241;43m0\u001b[39;49m\u001b[43m]\u001b[49m\n\u001b[0;32m     21\u001b[0m     df \u001b[38;5;241m=\u001b[39m pd\u001b[38;5;241m.\u001b[39mread_csv(file, delimiter\u001b[38;5;241m=\u001b[39m\u001b[38;5;124m\"\u001b[39m\u001b[38;5;124m;\u001b[39m\u001b[38;5;124m\"\u001b[39m)\n\u001b[0;32m     22\u001b[0m     \u001b[38;5;28;01mreturn\u001b[39;00m df\n",
      "\u001b[1;31mIndexError\u001b[0m: list index out of range"
     ]
    }
   ],
   "source": [
    "data = load_results_file(\"ReportData/Void_Empty_2023-09-21T00_21_17\")\n",
    "make_barplot(data, \"void Empty()\", \"ns\")"
   ]
  },
  {
   "cell_type": "markdown",
   "metadata": {},
   "source": []
  },
  {
   "cell_type": "code",
   "execution_count": null,
   "metadata": {
    "tags": []
   },
   "outputs": [],
   "source": [
    "data = load_results_file(\"ReportData/Arrays_Empty_In_2023-09-21T00_31_56\")\n",
    "make_barplot(data, \"void Empty(int[])\", \"ns\")"
   ]
  },
  {
   "cell_type": "markdown",
   "metadata": {},
   "source": [
    "### 5.2. Effect of interop settings\n",
    "\n",
    "#### `SetLastError`\n",
    "\n"
   ]
  },
  {
   "cell_type": "code",
   "execution_count": null,
   "metadata": {
    "tags": []
   },
   "outputs": [],
   "source": [
    "data = load_results_file(\"ReportData/SLE_2023-09-21T00_29_57\")\n",
    "make_barplot(data, \"Effect of SetLastError\", \"ns\")"
   ]
  },
  {
   "cell_type": "markdown",
   "metadata": {},
   "source": [
    "#### `SuppressUnmanagedCodeSecurity`\n",
    "\n"
   ]
  },
  {
   "cell_type": "code",
   "execution_count": null,
   "metadata": {
    "tags": []
   },
   "outputs": [],
   "source": [
    "data = load_results_file(\"ReportData/SUCS_2023-09-21T00_26_11\")\n",
    "make_barplot(data, \"Effect of SuppressUnmanagedCodeSecurity\", \"ns\")"
   ]
  },
  {
   "cell_type": "markdown",
   "metadata": {},
   "source": [
    "#### `SuppressGCTransition`"
   ]
  },
  {
   "cell_type": "code",
   "execution_count": null,
   "metadata": {
    "tags": []
   },
   "outputs": [],
   "source": [
    "# data = load_results_file(\"ReportData/SGCT_2023-09-21T00_22_56\")\n",
    "# make_barplot(data, \"Effect of SuppressGCTransition\", \"ns\")"
   ]
  },
  {
   "cell_type": "markdown",
   "metadata": {},
   "source": [
    "### 5.3. Marshalling primitive types\n",
    "\n",
    "- int input params\n",
    "- int return values\n",
    "\n",
    "```csharp\n",
    "// C# signatures\n",
    "static int ConstantInt();\n",
    "static int MultiplyInt(int a, int b);\n",
    "static bool NegateBool(bool value);\n",
    "```\n",
    "\n",
    "```cpp\n",
    "// C++ functions\n",
    "int ConstantInt() { return 42; }\n",
    "int MultiplyInt(int a, int b) { return a * b; }\n",
    "bool NegateBool(bool value) { return !value; }\n",
    "```"
   ]
  },
  {
   "cell_type": "code",
   "execution_count": null,
   "metadata": {
    "tags": []
   },
   "outputs": [],
   "source": [
    "data = load_results_file(\"ReportData/Primitive_Int_Out_2023-09-21T00_38_07\")\n",
    "make_barplot(data, \"Void Empty\", \"ns\")"
   ]
  },
  {
   "cell_type": "code",
   "execution_count": null,
   "metadata": {
    "tags": []
   },
   "outputs": [],
   "source": [
    "data = load_results_file(\"ReportData/Primitive_Int_InOut_2023-09-21T00_39_41\")\n",
    "make_barplot(data, \"Void Empty\", \"ns\")"
   ]
  },
  {
   "cell_type": "code",
   "execution_count": null,
   "metadata": {
    "tags": []
   },
   "outputs": [],
   "source": [
    "data = load_results_file(\"ReportData/Primitive_Bool_InOut_2023-09-21T00_41_18\")\n",
    "make_barplot(data, \"Void Empty\", \"ns\")"
   ]
  },
  {
   "cell_type": "markdown",
   "metadata": {},
   "source": [
    "### 5.4. Marshalling strings\n",
    "\n",
    "Marshalling strings involves dealing with the following two problems. First, general strings are fundamentally dynamically sized arrays of characters and share the same problems as arrays during interop. More importanly, strings have historically a multitude of representations. \n",
    "\n",
    "Strings in .NET are represented as objects containing an array of UTF-16 characters and an explicit Length property. In C, strings are traditionally represented as null-terminated `char *` arrays. (The C++ `std::string` is for many reasons, most of them outside of the Earthly scope of this report, unusable for interop scenarios). Passing .NET strings to native functions using `char *` therefore requires allocating the necessary buffer and converting the string to a compatible representation (ASCII, ANSI, UTF-8). Unmarshalling string from a native code requires a symmetric conversion. Just like with arrays, the pointer to the string buffer can be either a pointer to an unmanaged heap, a pinned `GCHandle` or a `fixed` unsafe pointer.\n",
    "\n",
    "To evaluate performance when marshalling strings we use the following functions.\n",
    "\n",
    "```csharp\n",
    "// C# signatures\n",
    "static int StringLength8(string str);\n",
    "static int StringLength16(string str);\n",
    "static string StringToUppercase(string str);\n",
    "```\n",
    "\n",
    "```cpp\n",
    "// C++ functions\n",
    "int StringLength8(const char *str) { return (int)strlen(str); }\n",
    "\n",
    "int StringLength16(const char16_t *str) { return (int)std::char_traits<char16_t>::length(str); }\n",
    "\n",
    "void StringToUppercase(char *str, int length) {\n",
    "    for (int i = 0; i < length; i++) {\n",
    "        str[i] = toupper(str[i]);\n",
    "    }\n",
    "}\n",
    "```\n",
    "\n",
    "Note that `StringLength8` and `StringLength16` only use the string as an *in* parameter. The first requires conversion to an 8-bit char representation, while the latter expects 16-bit characters. We expect the 16-bit variant to have reduced marshalling overhead due to not needing to convert the character representation."
   ]
  },
  {
   "cell_type": "code",
   "execution_count": null,
   "metadata": {
    "tags": []
   },
   "outputs": [],
   "source": [
    "data = load_results_file(\"ReportData/Strings_In_2023-09-21T00_51_26\")\n",
    "make_barplot(data, \"Void Empty\", \"ns\")"
   ]
  },
  {
   "cell_type": "markdown",
   "metadata": {
    "tags": []
   },
   "source": [
    "The `StringToUppercase` function uses its `char *` argument as both *in* and *out* parameter. This means that some marshalling work is required in both directions.\n",
    "\n",
    "The following figure compares performance between several possible C# implementations of the native interface.\n",
    "\n",
    "- `ByteArray` - String is converted to `byte[]` of UTF-8 characters, then passed to the marshaller as a blittable array. After the native call, the content of the array is converted to a .NET string.\n",
    "- `Fixed` - String is converted to `byte[]` array of UTF-8 characters, then a `fixed` pointer to the array in managed memory is passed to the native function. After the native call, the content of the array is converted to a .NET string.\n",
    "- `SringBuilder` - Variant only available with `DllImport` marshalling which handles passing `StringBuilder` as special pattern for returning string from the native code. Passes pointer to the mutable internal `StringBuilder` buffer which the native code can write into. The written value can then be retrieved using the standard `.ToString()` method."
   ]
  },
  {
   "cell_type": "code",
   "execution_count": null,
   "metadata": {
    "tags": []
   },
   "outputs": [],
   "source": [
    "data = load_results_file(\"ReportData/Strings_InOut_2023-09-21T00_52_52\")\n",
    "make_barplot(data, \"Void Empty\", \"ns\")"
   ]
  },
  {
   "cell_type": "markdown",
   "metadata": {},
   "source": [
    "### 5.5 Marshalling arrays\n",
    "\n",
    "- blittable arrays\n",
    "- pinning managed arrays\n",
    "- It should be noted that frequent and/or long-lasting pinning or fixing of objects causes problems for the GC and leads to heap fragmentation. It is therefore likely to have a detrimental effect on overall performance which might not be evident from simple benchmarks like this.\n",
    "\n",
    "```csharp\n",
    "// C# signatures\n",
    "static int SumIntArray(int[] arr, int count);\n",
    "static void FillIntArray(int[] arr, int count);\n",
    "```\n",
    "\n",
    "```cpp\n",
    "// C++ functions\n",
    "int SumIntArray(const int *arr, int count) {\n",
    "    int acc = 0;\n",
    "    for (int i = 0; i < count; i++) {\n",
    "        acc += arr[i];\n",
    "    }\n",
    "    return acc;\n",
    "}\n",
    "\n",
    "void FillIntArray(int *arr, int count) {\n",
    "    for (int i = 0; i < count; i++) {\n",
    "        arr[i] = i;\n",
    "    }\n",
    "}\n",
    "```"
   ]
  },
  {
   "cell_type": "code",
   "execution_count": null,
   "metadata": {
    "tags": []
   },
   "outputs": [],
   "source": [
    "data = load_results_file(\"ReportData/Arrays_In_2023-09-21T00_42_56\")\n",
    "make_barplot(data, \"Void Empty\", \"ns\")"
   ]
  },
  {
   "cell_type": "code",
   "execution_count": null,
   "metadata": {
    "tags": []
   },
   "outputs": [],
   "source": [
    "data = load_results_file(\"ReportData/Arrays_InOut_2023-09-21T00_45_32\")\n",
    "make_barplot(data, \"Void Empty\", \"ns\")"
   ]
  },
  {
   "cell_type": "markdown",
   "metadata": {
    "tags": []
   },
   "source": [
    "### 5.6. Marshalling structures\n",
    "\n",
    "- non-blittable fields\n",
    "- manual marshalling\n",
    "- custom marshaller"
   ]
  },
  {
   "cell_type": "code",
   "execution_count": null,
   "metadata": {
    "tags": []
   },
   "outputs": [],
   "source": [
    "data = load_results_file(\"ReportData/Structs_Blittable_2023-09-21T00_54_51\")\n",
    "make_barplot(data, \"Void Empty\", \"ns\")"
   ]
  },
  {
   "cell_type": "code",
   "execution_count": null,
   "metadata": {
    "tags": []
   },
   "outputs": [],
   "source": [
    "data = load_results_file(\"ReportData/Structs_NonBlittable_2023-09-21T00_57_59\")\n",
    "make_barplot(data, \"Void Empty\", \"ns\")"
   ]
  },
  {
   "cell_type": "markdown",
   "metadata": {},
   "source": [
    "### 5.7. Cold start performance"
   ]
  },
  {
   "cell_type": "code",
   "execution_count": null,
   "metadata": {
    "tags": []
   },
   "outputs": [],
   "source": [
    "data = load_results_file(\"ReportData/CS_Void_Empty_2023-09-21T00_59_32\")\n",
    "make_barplot(data, \"Void Empty\", \"ms\")"
   ]
  },
  {
   "cell_type": "code",
   "execution_count": null,
   "metadata": {
    "tags": []
   },
   "outputs": [],
   "source": [
    "data = load_results_file(\"ReportData/CS_Strings_Empty_In_2023-09-21T01_03_17\")\n",
    "make_barplot(data, \"Void Empty\", \"ms\")"
   ]
  },
  {
   "cell_type": "code",
   "execution_count": null,
   "metadata": {
    "tags": []
   },
   "outputs": [],
   "source": [
    "data = load_results_file(\"ReportData/CS_Arrays_InOut_2023-09-21T01_07_02\")\n",
    "make_barplot(data, \"Void Empty\", \"ms\")"
   ]
  },
  {
   "cell_type": "code",
   "execution_count": null,
   "metadata": {
    "tags": []
   },
   "outputs": [],
   "source": [
    "data = load_results_file(\"ReportData/CS_Structs_Blittable_2023-09-21T01_10_46\")\n",
    "make_barplot(data, \"Void Empty\", \"ms\")"
   ]
  },
  {
   "cell_type": "code",
   "execution_count": null,
   "metadata": {
    "tags": []
   },
   "outputs": [],
   "source": [
    "data = load_results_file(\"ReportData/CS_Structs_NonBlittable_2023-09-21T01_14_31\")\n",
    "make_barplot(data, \"Void Empty\", \"ms\")"
   ]
  },
  {
   "cell_type": "code",
   "execution_count": null,
   "metadata": {
    "tags": []
   },
   "outputs": [],
   "source": [
    "data = load_results_file(\"ReportData/CS_Mixed_2023-09-21T07_58_47\")\n",
    "make_barplot(data, \"Mixed\", \"ms\")"
   ]
  },
  {
   "cell_type": "markdown",
   "metadata": {
    "tags": []
   },
   "source": [
    "## 6. Summary\n",
    "\n",
    "#### Runtime versions\n",
    "\n",
    "The results show that there have been significant performance improvements between the old .Net Framework 4.8 runtime and the modern Core runtimes, with the former being on average TODO% slower than .NET 6. Comparably, there are only very minor performance differences between .NET 6 and .NET 8 runtimes in the benchmarked interop scenarios. The latest runtime was on average TODO% percent faster with only few scenarios showing interesting improvements.\n",
    "\n",
    "#### Interop methods\n",
    "\n",
    "Generally, we observed mostly minor throughput performance differences between the three solutions when running on the same runtime. This seems consistent with the fact that they only differ in marshalling of certain types, and internally use the same runtime interop service. On .NET 8, `LibraryImport` methods were on average TODO% faster than corresponding `DllImport` methods. Function pointer based methods were on average TODO% faster than `LibraryImport` methods, albeit requiring more handwritten code to implement.\n",
    "\n",
    "We noticed that the design of the new custom marshaller API for `LibraryImport` seems to make it impossible to avoid copying data in/out by passing pointers to managed memory, which makes it significantly less efficient for marshalling non-blittable types than hand-written code.\n",
    "\n",
    "We observed that using `LibraryImport` instead of `DllImport` improved cold start time (i.e. first method execution including JIT) in the benchmark scenarios by TODO to TODO ns (TODO-TODO% difference to baseline methods). This currently seems to be the most tangible performance benefit of the compile-time generated marshalling code. It closely matched performance of the solution based on function pointers which uses only handwritten code.\n",
    "\n",
    "#### Interop settings\n",
    "\n",
    "We observed the following effects of the available security options:\n",
    "\n",
    "- Enabling `SetLastError` adds a performance overhead of about TODO ns across runtime versions (TODO-TODO% difference to baseline method).\n",
    "- Enabling `SuppressUnamangedCodeSecurity` (i.e. disabling security stack walk) improves performance by about TODO ns on .NET Framework (TODO% difference to baseline). Although it is supposed to have no effect on Core runtimes, enabling the option added a surprising overhead of about TODO ns (TODO-TODO% difference to baseline).\n",
    "- Enabling `SuppressGCTransition` (i.e. disabling switching GC mode) improves performance by about TODO ns (TODO% difference to baseline)."
   ]
  },
  {
   "cell_type": "code",
   "execution_count": null,
   "metadata": {},
   "outputs": [],
   "source": []
  }
 ],
 "metadata": {
  "kernelspec": {
   "display_name": "Python 3 (ipykernel)",
   "language": "python",
   "name": "python3"
  },
  "language_info": {
   "codemirror_mode": {
    "name": "ipython",
    "version": 3
   },
   "file_extension": ".py",
   "mimetype": "text/x-python",
   "name": "python",
   "nbconvert_exporter": "python",
   "pygments_lexer": "ipython3",
   "version": "3.11.2"
  }
 },
 "nbformat": 4,
 "nbformat_minor": 4
}
